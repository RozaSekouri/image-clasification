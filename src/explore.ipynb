{
    "cells": [
        {
            "cell_type": "markdown",
            "metadata": {},
            "source": [
                "# Explore here"
            ]
        },
        {
            "cell_type": "code",
            "execution_count": 4,
            "metadata": {},
            "outputs": [
                {
                    "name": "stdout",
                    "output_type": "stream",
                    "text": [
                        "Defaulting to user installation because normal site-packages is not writeable\n",
                        "Requirement already satisfied: kagglehub in /home/vscode/.local/lib/python3.11/site-packages (0.3.12)\n",
                        "Requirement already satisfied: packaging in /home/vscode/.local/lib/python3.11/site-packages (from kagglehub) (25.0)\n",
                        "Requirement already satisfied: pyyaml in /home/vscode/.local/lib/python3.11/site-packages (from kagglehub) (6.0.2)\n",
                        "Requirement already satisfied: requests in /home/vscode/.local/lib/python3.11/site-packages (from kagglehub) (2.32.4)\n",
                        "Requirement already satisfied: tqdm in /home/vscode/.local/lib/python3.11/site-packages (from kagglehub) (4.67.1)\n",
                        "Requirement already satisfied: charset_normalizer<4,>=2 in /home/vscode/.local/lib/python3.11/site-packages (from requests->kagglehub) (3.4.2)\n",
                        "Requirement already satisfied: idna<4,>=2.5 in /home/vscode/.local/lib/python3.11/site-packages (from requests->kagglehub) (3.10)\n",
                        "Requirement already satisfied: urllib3<3,>=1.21.1 in /home/vscode/.local/lib/python3.11/site-packages (from requests->kagglehub) (2.5.0)\n",
                        "Requirement already satisfied: certifi>=2017.4.17 in /home/vscode/.local/lib/python3.11/site-packages (from requests->kagglehub) (2025.7.14)\n",
                        "Path to dataset files: /home/vscode/.cache/kagglehub/datasets/salader/dogs-vs-cats/versions/1\n"
                    ]
                }
            ],
            "source": [
                "!pip install kagglehub\n",
                "import kagglehub\n",
                "\n",
                "path = kagglehub.dataset_download(\"salader/dogs-vs-cats\")\n",
                "\n",
                "print(\"Path to dataset files:\", path)"
            ]
        },
        {
            "cell_type": "code",
            "execution_count": 5,
            "metadata": {},
            "outputs": [
                {
                    "name": "stdout",
                    "output_type": "stream",
                    "text": [
                        "Defaulting to user installation because normal site-packages is not writeable\n",
                        "Requirement already satisfied: scipy in /home/vscode/.local/lib/python3.11/site-packages (1.16.0)\n",
                        "Requirement already satisfied: numpy<2.6,>=1.25.2 in /home/vscode/.local/lib/python3.11/site-packages (from scipy) (2.1.3)\n",
                        "Defaulting to user installation because normal site-packages is not writeable\n",
                        "Requirement already satisfied: tensorflow in /home/vscode/.local/lib/python3.11/site-packages (2.19.0)\n",
                        "Requirement already satisfied: absl-py>=1.0.0 in /home/vscode/.local/lib/python3.11/site-packages (from tensorflow) (2.3.1)\n",
                        "Requirement already satisfied: astunparse>=1.6.0 in /home/vscode/.local/lib/python3.11/site-packages (from tensorflow) (1.6.3)\n",
                        "Requirement already satisfied: flatbuffers>=24.3.25 in /home/vscode/.local/lib/python3.11/site-packages (from tensorflow) (25.2.10)\n",
                        "Requirement already satisfied: gast!=0.5.0,!=0.5.1,!=0.5.2,>=0.2.1 in /home/vscode/.local/lib/python3.11/site-packages (from tensorflow) (0.6.0)\n",
                        "Requirement already satisfied: google-pasta>=0.1.1 in /home/vscode/.local/lib/python3.11/site-packages (from tensorflow) (0.2.0)\n",
                        "Requirement already satisfied: libclang>=13.0.0 in /home/vscode/.local/lib/python3.11/site-packages (from tensorflow) (18.1.1)\n",
                        "Requirement already satisfied: opt-einsum>=2.3.2 in /home/vscode/.local/lib/python3.11/site-packages (from tensorflow) (3.4.0)\n",
                        "Requirement already satisfied: packaging in /home/vscode/.local/lib/python3.11/site-packages (from tensorflow) (25.0)\n",
                        "Requirement already satisfied: protobuf!=4.21.0,!=4.21.1,!=4.21.2,!=4.21.3,!=4.21.4,!=4.21.5,<6.0.0dev,>=3.20.3 in /home/vscode/.local/lib/python3.11/site-packages (from tensorflow) (5.29.5)\n",
                        "Requirement already satisfied: requests<3,>=2.21.0 in /home/vscode/.local/lib/python3.11/site-packages (from tensorflow) (2.32.4)\n",
                        "Requirement already satisfied: setuptools in /usr/local/lib/python3.11/site-packages (from tensorflow) (67.8.0)\n",
                        "Requirement already satisfied: six>=1.12.0 in /home/vscode/.local/lib/python3.11/site-packages (from tensorflow) (1.17.0)\n",
                        "Requirement already satisfied: termcolor>=1.1.0 in /home/vscode/.local/lib/python3.11/site-packages (from tensorflow) (3.1.0)\n",
                        "Requirement already satisfied: typing-extensions>=3.6.6 in /home/vscode/.local/lib/python3.11/site-packages (from tensorflow) (4.14.1)\n",
                        "Requirement already satisfied: wrapt>=1.11.0 in /home/vscode/.local/lib/python3.11/site-packages (from tensorflow) (1.17.2)\n",
                        "Requirement already satisfied: grpcio<2.0,>=1.24.3 in /home/vscode/.local/lib/python3.11/site-packages (from tensorflow) (1.73.1)\n",
                        "Requirement already satisfied: tensorboard~=2.19.0 in /home/vscode/.local/lib/python3.11/site-packages (from tensorflow) (2.19.0)\n",
                        "Requirement already satisfied: keras>=3.5.0 in /home/vscode/.local/lib/python3.11/site-packages (from tensorflow) (3.10.0)\n",
                        "Requirement already satisfied: numpy<2.2.0,>=1.26.0 in /home/vscode/.local/lib/python3.11/site-packages (from tensorflow) (2.1.3)\n",
                        "Requirement already satisfied: h5py>=3.11.0 in /home/vscode/.local/lib/python3.11/site-packages (from tensorflow) (3.14.0)\n",
                        "Requirement already satisfied: ml-dtypes<1.0.0,>=0.5.1 in /home/vscode/.local/lib/python3.11/site-packages (from tensorflow) (0.5.1)\n",
                        "Requirement already satisfied: tensorflow-io-gcs-filesystem>=0.23.1 in /home/vscode/.local/lib/python3.11/site-packages (from tensorflow) (0.37.1)\n",
                        "Requirement already satisfied: charset_normalizer<4,>=2 in /home/vscode/.local/lib/python3.11/site-packages (from requests<3,>=2.21.0->tensorflow) (3.4.2)\n",
                        "Requirement already satisfied: idna<4,>=2.5 in /home/vscode/.local/lib/python3.11/site-packages (from requests<3,>=2.21.0->tensorflow) (3.10)\n",
                        "Requirement already satisfied: urllib3<3,>=1.21.1 in /home/vscode/.local/lib/python3.11/site-packages (from requests<3,>=2.21.0->tensorflow) (2.5.0)\n",
                        "Requirement already satisfied: certifi>=2017.4.17 in /home/vscode/.local/lib/python3.11/site-packages (from requests<3,>=2.21.0->tensorflow) (2025.7.14)\n",
                        "Requirement already satisfied: markdown>=2.6.8 in /home/vscode/.local/lib/python3.11/site-packages (from tensorboard~=2.19.0->tensorflow) (3.8.2)\n",
                        "Requirement already satisfied: tensorboard-data-server<0.8.0,>=0.7.0 in /home/vscode/.local/lib/python3.11/site-packages (from tensorboard~=2.19.0->tensorflow) (0.7.2)\n",
                        "Requirement already satisfied: werkzeug>=1.0.1 in /home/vscode/.local/lib/python3.11/site-packages (from tensorboard~=2.19.0->tensorflow) (3.1.3)\n",
                        "Requirement already satisfied: wheel<1.0,>=0.23.0 in /usr/local/lib/python3.11/site-packages (from astunparse>=1.6.0->tensorflow) (0.40.0)\n",
                        "Requirement already satisfied: rich in /home/vscode/.local/lib/python3.11/site-packages (from keras>=3.5.0->tensorflow) (14.0.0)\n",
                        "Requirement already satisfied: namex in /home/vscode/.local/lib/python3.11/site-packages (from keras>=3.5.0->tensorflow) (0.1.0)\n",
                        "Requirement already satisfied: optree in /home/vscode/.local/lib/python3.11/site-packages (from keras>=3.5.0->tensorflow) (0.16.0)\n",
                        "Requirement already satisfied: MarkupSafe>=2.1.1 in /home/vscode/.local/lib/python3.11/site-packages (from werkzeug>=1.0.1->tensorboard~=2.19.0->tensorflow) (3.0.2)\n",
                        "Requirement already satisfied: markdown-it-py>=2.2.0 in /home/vscode/.local/lib/python3.11/site-packages (from rich->keras>=3.5.0->tensorflow) (3.0.0)\n",
                        "Requirement already satisfied: pygments<3.0.0,>=2.13.0 in /home/vscode/.local/lib/python3.11/site-packages (from rich->keras>=3.5.0->tensorflow) (2.19.2)\n",
                        "Requirement already satisfied: mdurl~=0.1 in /home/vscode/.local/lib/python3.11/site-packages (from markdown-it-py>=2.2.0->rich->keras>=3.5.0->tensorflow) (0.1.2)\n"
                    ]
                }
            ],
            "source": [
                "!pip install scipy\n",
                "!pip install matplotlib>=3.7.0\n",
                "!pip install tensorflow\n",
                "import os\n",
                "import shutil\n",
                "import random\n",
                "import matplotlib.pyplot as plt\n",
                "import matplotlib.image as mpimg\n",
                "import tensorflow as tf\n",
                "from tensorflow.keras.preprocessing.image import ImageDataGenerator\n",
                "from tensorflow.keras.models import Sequential\n",
                "from tensorflow.keras.layers import Conv2D, MaxPool2D, Flatten, Dense\n",
                "from tensorflow.keras.callbacks import ModelCheckpoint, EarlyStopping\n",
                "import zipfile \n"
            ]
        },
        {
            "cell_type": "markdown",
            "metadata": {},
            "source": [
                "# --- Configuration ---"
            ]
        },
        {
            "cell_type": "code",
            "execution_count": 6,
            "metadata": {},
            "outputs": [],
            "source": [
                "IMAGE_WIDTH, IMAGE_HEIGHT = 200, 200\n",
                "BATCH_SIZE = 8\n",
                "EPOCHS = 5\n",
                "\n",
                "# Define local directories for our structured dataset\n",
                "BASE_DATA_DIR = 'dogs_vs_cats_dataset'\n",
                "TRAIN_DIR = os.path.join(BASE_DATA_DIR, 'train')\n",
                "VALIDATION_DIR = os.path.join(BASE_DATA_DIR, 'validation')\n",
                "\n",
                "# Model saving path\n",
                "MODEL_SAVE_PATH = 'trained_models/dogs_vs_cats_vgg_like.h5'\n",
                "CHECKPOINT_FILEPATH = 'trained_models/best_model_checkpoint.h5'"
            ]
        },
        {
            "cell_type": "markdown",
            "metadata": {},
            "source": [
                "# --- Step 1: Loading the dataset using kagglehub ---"
            ]
        },
        {
            "cell_type": "code",
            "execution_count": 7,
            "metadata": {},
            "outputs": [
                {
                    "name": "stdout",
                    "output_type": "stream",
                    "text": [
                        "Dataset downloaded to: /home/vscode/.cache/kagglehub/datasets/salader/dogs-vs-cats/versions/1\n",
                        "Identified source directories for images:\n",
                        "  Cats: /home/vscode/.cache/kagglehub/datasets/salader/dogs-vs-cats/versions/1/dogs_vs_cats/train/cats\n",
                        "  Dogs: /home/vscode/.cache/kagglehub/datasets/salader/dogs-vs-cats/versions/1/dogs_vs_cats/train/dogs\n",
                        "\n",
                        "--- Preparing local directory structure for ImageDataGenerator ---\n",
                        "Found 10000 cat images and 10000 dog images in source.\n",
                        "Dataset successfully structured into local train/validation directories.\n",
                        "  Training Cats: 8000\n",
                        "  Training Dogs: 8000\n",
                        "  Validation Cats: 2000\n",
                        "  Validation Dogs: 2000\n"
                    ]
                }
            ],
            "source": [
                "download_path = None\n",
                "\n",
                "try:\n",
                "    download_path = kagglehub.dataset_download(\"salader/dogs-vs-cats\")\n",
                "    print(f\"Dataset downloaded to: {download_path}\")\n",
                "\n",
                "    # Based on your latest 'ls -l' output, the raw images are directly within\n",
                "    # 'dogs_vs_cats/train/' organized into 'cats/' and 'dogs/' subfolders.\n",
                "    # We will use this 'train' folder from the cache as our source.\n",
                "    SOURCE_TRAIN_CATS_DIR = os.path.join(download_path, 'dogs_vs_cats', 'train', 'cats')\n",
                "    SOURCE_TRAIN_DOGS_DIR = os.path.join(download_path, 'dogs_vs_cats', 'train', 'dogs')\n",
                "\n",
                "    if not os.path.isdir(SOURCE_TRAIN_CATS_DIR) or not os.path.isdir(SOURCE_TRAIN_DOGS_DIR):\n",
                "        print(f\"CRITICAL ERROR: Expected source directories not found or incomplete:\")\n",
                "        print(f\"  Cats source: {SOURCE_TRAIN_CATS_DIR}\")\n",
                "        print(f\"  Dogs source: {SOURCE_TRAIN_DOGS_DIR}\")\n",
                "        print(\"Please manually verify the structure of the KaggleHub downloaded dataset.\")\n",
                "        exit()\n",
                "\n",
                "    print(f\"Identified source directories for images:\")\n",
                "    print(f\"  Cats: {SOURCE_TRAIN_CATS_DIR}\")\n",
                "    print(f\"  Dogs: {SOURCE_TRAIN_DOGS_DIR}\")\n",
                "\n",
                "except Exception as e:\n",
                "    print(f\"Error during dataset download or initial path identification: {e}\")\n",
                "    print(\"Please ensure 'kagglehub' is installed and your Kaggle API credentials are correctly set up (kaggle.json in ~/.kaggle/).\")\n",
                "    exit()\n",
                "\n",
                "# --- Prepare local directory structure for ImageDataGenerator ---\n",
                "print(\"\\n--- Preparing local directory structure for ImageDataGenerator ---\")\n",
                "\n",
                "# Clean up existing structure if it exists to avoid old files\n",
                "if os.path.exists(BASE_DATA_DIR):\n",
                "    print(f\"Removing existing '{BASE_DATA_DIR}' directory for a clean start...\")\n",
                "    shutil.rmtree(BASE_DATA_DIR)\n",
                "\n",
                "os.makedirs(os.path.join(TRAIN_DIR, 'dogs'), exist_ok=True)\n",
                "os.makedirs(os.path.join(TRAIN_DIR, 'cats'), exist_ok=True)\n",
                "os.makedirs(os.path.join(VALIDATION_DIR, 'dogs'), exist_ok=True)\n",
                "os.makedirs(os.path.join(VALIDATION_DIR, 'cats'), exist_ok=True)\n",
                "\n",
                "# List all image files from the source 'cats' and 'dogs' directories\n",
                "all_cat_files = [f for f in os.listdir(SOURCE_TRAIN_CATS_DIR) if f.lower().endswith(('.jpg', '.jpeg', '.png'))]\n",
                "all_dog_files = [f for f in os.listdir(SOURCE_TRAIN_DOGS_DIR) if f.lower().endswith(('.jpg', '.jpeg', '.png'))]\n",
                "\n",
                "random.shuffle(all_cat_files)\n",
                "random.shuffle(all_dog_files)\n",
                "\n",
                "print(f\"Found {len(all_cat_files)} cat images and {len(all_dog_files)} dog images in source.\")\n",
                "\n",
                "# Define split ratio (e.g., 80% train, 20% validation)\n",
                "train_split_ratio = 0.8\n",
                "\n",
                "# Distribute cat images\n",
                "num_train_cats = int(len(all_cat_files) * train_split_ratio)\n",
                "for i, img_name in enumerate(all_cat_files):\n",
                "    src_path = os.path.join(SOURCE_TRAIN_CATS_DIR, img_name)\n",
                "    if i < num_train_cats:\n",
                "        dst_path = os.path.join(TRAIN_DIR, 'cats', img_name)\n",
                "    else:\n",
                "        dst_path = os.path.join(VALIDATION_DIR, 'cats', img_name)\n",
                "    try:\n",
                "        shutil.copy(src_path, dst_path)\n",
                "    except Exception as e:\n",
                "        print(f\"ERROR: Could not copy cat image '{img_name}': {e}\")\n",
                "\n",
                "# Distribute dog images\n",
                "num_train_dogs = int(len(all_dog_files) * train_split_ratio)\n",
                "for i, img_name in enumerate(all_dog_files):\n",
                "    src_path = os.path.join(SOURCE_TRAIN_DOGS_DIR, img_name)\n",
                "    if i < num_train_dogs:\n",
                "        dst_path = os.path.join(TRAIN_DIR, 'dogs', img_name)\n",
                "    else:\n",
                "        dst_path = os.path.join(VALIDATION_DIR, 'dogs', img_name)\n",
                "    try:\n",
                "        shutil.copy(src_path, dst_path)\n",
                "    except Exception as e:\n",
                "        print(f\"ERROR: Could not copy dog image '{img_name}': {e}\")\n",
                "\n",
                "print(\"Dataset successfully structured into local train/validation directories.\")\n",
                "print(f\"  Training Cats: {len(os.listdir(os.path.join(TRAIN_DIR, 'cats')))}\")\n",
                "print(f\"  Training Dogs: {len(os.listdir(os.path.join(TRAIN_DIR, 'dogs')))}\")\n",
                "print(f\"  Validation Cats: {len(os.listdir(os.path.join(VALIDATION_DIR, 'cats')))}\")\n",
                "print(f\"  Validation Dogs: {len(os.listdir(os.path.join(VALIDATION_DIR, 'dogs')))}\")\n"
            ]
        }
    ],
    "metadata": {
        "kernelspec": {
            "display_name": "Python 3",
            "language": "python",
            "name": "python3"
        },
        "language_info": {
            "codemirror_mode": {
                "name": "ipython",
                "version": 3
            },
            "file_extension": ".py",
            "mimetype": "text/x-python",
            "name": "python",
            "nbconvert_exporter": "python",
            "pygments_lexer": "ipython3",
            "version": "3.11.4"
        },
        "orig_nbformat": 4
    },
    "nbformat": 4,
    "nbformat_minor": 2
}
